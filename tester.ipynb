{
 "cells": [
  {
   "cell_type": "code",
   "execution_count": null,
   "id": "e0c4c15f",
   "metadata": {},
   "outputs": [],
   "source": []
  }
 ],
 "metadata": {
  "kernelspec": {
   "display_name": "Python (ISLP)",
   "language": "python",
   "name": "islp"
  },
  "language_info": {
   "name": "python",
   "version": "3.13.3"
  }
 },
 "nbformat": 4,
 "nbformat_minor": 5
}
